{
 "cells": [
  {
   "cell_type": "raw",
   "id": "656a11a4-aad9-4f62-b230-48a87f1ac935",
   "metadata": {},
   "source": [
    "1.who devloped python programming language?\n",
    "ans. python programming language devloped by guido van Rossuum. "
   ]
  },
  {
   "cell_type": "markdown",
   "id": "d25de506-3ec5-4be3-a15f-7a50d73659e0",
   "metadata": {},
   "source": [
    "2.Whichtype of Programming does Python support?\n",
    "ans.Python is support object-oriented, structured, and functional programming."
   ]
  },
  {
   "cell_type": "markdown",
   "id": "d4f92e9e-3f20-4fda-8d99-dcc85a2adea1",
   "metadata": {},
   "source": [
    "3.Is Python Case Sensitive when dealing with Identifiers?\n",
    "ans.Yes, Python is a case-sensitive language, i.e., it treats uppercase and lowercase characters differently."
   ]
  },
  {
   "cell_type": "markdown",
   "id": "a1e8f3b9-ecfc-4f51-88f5-3f863ce98cb5",
   "metadata": {},
   "source": [
    "4.what is correct extension for python file?\n",
    "ans.The extensions for Python files are - . py, . pyi,. "
   ]
  },
  {
   "cell_type": "markdown",
   "id": "b5053500-dcb2-43a8-8308-a88f2c9a8033",
   "metadata": {},
   "source": [
    "5.is python code compiled or interpreted?\n",
    "ans.Python is an interpreted language, therefore programmes written in it are translated from their source code into bytecode before being run by the Python virtual machine. Because Python code does not need to be created and linked like code for other popular compiled languages, such C and C + +, it differs from these languages."
   ]
  },
  {
   "cell_type": "markdown",
   "id": "3601b721-2439-4e1c-94fe-cf3756dda4fe",
   "metadata": {},
   "source": [
    "6.Name a few  blocks of code used to define In Pythonlanguage?\n",
    "ans. a module, a function body, and a class definition."
   ]
  },
  {
   "cell_type": "markdown",
   "id": "33db6b31-ebf8-43bf-b7ce-a205eb999d4d",
   "metadata": {},
   "source": [
    "7.state character used to give single-line comments in python?\n",
    "ans.We can write a single-line comment by adding a single # character before any statement or line of code."
   ]
  },
  {
   "cell_type": "markdown",
   "id": "9b4e479d-c7cc-4c20-850d-9a3fee0ae260",
   "metadata": {},
   "source": [
    " 8.mension functions wich can help us to find the version of python that we are currently working on?\n",
    "ans.The function sys. version can help us to find the version of python that we are currently working on."
   ]
  },
  {
   "cell_type": "markdown",
   "id": "3c7b164a-567e-49a6-a552-7fdc816190cc",
   "metadata": {},
   "source": [
    "9.python supports the creation of anonymous functions at runtime, using a construct called?\n",
    "ans.lambda"
   ]
  },
  {
   "cell_type": "markdown",
   "id": "390fd249-dbc5-40e3-95d4-3c6ca5076b42",
   "metadata": {},
   "source": [
    "10.what does pip stand for python?\n",
    "ans.PIP is a recursive acronym for “Preferred Installer Program” or PIP Installs Packages. It is a command-line utility that installs, reinstalls, or uninstalls PyPI packages with one simple command: pip"
   ]
  },
  {
   "cell_type": "markdown",
   "id": "201e32db-9722-4b1c-9266-f25129986749",
   "metadata": {},
   "source": [
    "11.mention a few built-in functions in python?\n",
    "ans.print( ) function.\n",
    "type( ) function.\n",
    "input( ) function.\n",
    "abs( ) function.\n",
    "pow( ) function.\n",
    "dir( ) function.\n",
    "sorted( ) function.\n",
    "max( ) function"
   ]
  },
  {
   "cell_type": "markdown",
   "id": "04b6667e-8252-4872-b411-c7d8ff48077c",
   "metadata": {},
   "source": [
    "12.what is the max possible length of an identifier in python?\n",
    "ans. An identifier can have a maximum length of 79 characters in Python."
   ]
  },
  {
   "cell_type": "markdown",
   "id": "775cab49-2caf-4f41-bd7c-70d781dfd254",
   "metadata": {},
   "source": [
    "13.what are the benefits of using python?\n",
    "ans.Data science.\n",
    "Scientific and mathematical computing.\n",
    "Web development.\n",
    "Finance and trading.\n",
    "System automation and administration.\n",
    "Computer graphics.\n",
    "Basic game development.\n",
    "Security and penetration testing"
   ]
  },
  {
   "cell_type": "markdown",
   "id": "2a815d87-1898-407e-94cc-b0fbae38bf3d",
   "metadata": {},
   "source": [
    "14.how is memory managed in python?\n",
    "ans.Memory management in Python involves a private heap containing all Python objects and data structures. The management of this private heap is ensured internally by the Python memory manager."
   ]
  },
  {
   "cell_type": "markdown",
   "id": "c920cfb9-c8ed-4bcb-aef2-9c24fd64df7e",
   "metadata": {},
   "source": [
    "15.how to install python on windows and set path variables?\n",
    "ans.Right-clicking This PC and going to Properties.\n",
    "Clicking on the Advanced system settings in the menu on the left.\n",
    "Clicking on the Environment Variables button on the bottom right.\n",
    "In the System variables section, selecting the Path variable and clicking on Edit."
   ]
  },
  {
   "cell_type": "markdown",
   "id": "5f0c008a-b49f-4d16-b74a-76c9874895ea",
   "metadata": {},
   "source": [
    "16.is indentation required in python?\n",
    "ans.Indentation refers to the spaces at the beginning of a code line. Where in other programming languages the indentation in code is for readability only, the indentation in Python is very important. Python uses indentation to indicate a block of code.\n"
   ]
  }
 ],
 "metadata": {
  "kernelspec": {
   "display_name": "Python 3 (ipykernel)",
   "language": "python",
   "name": "python3"
  },
  "language_info": {
   "codemirror_mode": {
    "name": "ipython",
    "version": 3
   },
   "file_extension": ".py",
   "mimetype": "text/x-python",
   "name": "python",
   "nbconvert_exporter": "python",
   "pygments_lexer": "ipython3",
   "version": "3.10.8"
  }
 },
 "nbformat": 4,
 "nbformat_minor": 5
}
